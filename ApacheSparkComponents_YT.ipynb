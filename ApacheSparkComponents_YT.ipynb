{
 "cells": [
  {
   "cell_type": "code",
   "execution_count": 5,
   "metadata": {},
   "outputs": [],
   "source": [
    "from pyspark.sql import SparkSession\n",
    "spark = SparkSession.builder.appName(\"spark\").getOrCreate()"
   ]
  },
  {
   "cell_type": "code",
   "execution_count": 6,
   "metadata": {},
   "outputs": [
    {
     "name": "stdout",
     "output_type": "stream",
     "text": [
      "['Apache', 'Spark', 'Core', 'Example']\n"
     ]
    }
   ],
   "source": [
    "#Create an RDD\n",
    "rdd = spark.sparkContext.parallelize([\"Apache\", \"Spark\", \"Core\", \"Example\"])\n",
    "result=rdd.collect()\n",
    "print(result)"
   ]
  },
  {
   "cell_type": "markdown",
   "metadata": {},
   "source": [
    "# Spark SQL Example"
   ]
  },
  {
   "cell_type": "code",
   "execution_count": 14,
   "metadata": {},
   "outputs": [
    {
     "name": "stdout",
     "output_type": "stream",
     "text": [
      "+---+-----+---+\n",
      "| ID| Name|Age|\n",
      "+---+-----+---+\n",
      "|  1| John| 28|\n",
      "|  2| Mike| 35|\n",
      "|  3|Rahul| 22|\n",
      "+---+-----+---+\n",
      "\n"
     ]
    }
   ],
   "source": [
    "data = [(1,\"John\", 28), (2, \"Mike\", 35), (3, \"Rahul\", 22)]\n",
    "df = spark.createDataFrame(data, [\"ID\", \"Name\", \"Age\"])\n",
    "df.show()"
   ]
  },
  {
   "cell_type": "code",
   "execution_count": 15,
   "metadata": {},
   "outputs": [
    {
     "name": "stdout",
     "output_type": "stream",
     "text": [
      "+---+----+---+\n",
      "| ID|Name|Age|\n",
      "+---+----+---+\n",
      "|  1|John| 28|\n",
      "|  2|Mike| 35|\n",
      "+---+----+---+\n",
      "\n"
     ]
    }
   ],
   "source": [
    "df.createOrReplaceTempView(\"Employee\") \n",
    "result = spark.sql(\"SELECT * FROM Employee where age > 25\")\n",
    "result.show()"
   ]
  },
  {
   "cell_type": "markdown",
   "metadata": {},
   "source": [
    "#Spark Straming"
   ]
  },
  {
   "cell_type": "code",
   "execution_count": 16,
   "metadata": {},
   "outputs": [],
   "source": [
    "from pyspark.streaming import StreamingContext"
   ]
  },
  {
   "cell_type": "code",
   "execution_count": null,
   "metadata": {},
   "outputs": [],
   "source": [
    "ssc = StreamingContext(spark.sparkContext, batchDuration=5)\n",
    "dstrem = ssc.socketTextStream(\"localhost\", 9999)\n",
    "dstrem.pprint()\n",
    "ssc.start()\n",
    "ssc.awaitTermination()"
   ]
  }
 ],
 "metadata": {
  "kernelspec": {
   "display_name": "pyspark_env",
   "language": "python",
   "name": "python3"
  },
  "language_info": {
   "codemirror_mode": {
    "name": "ipython",
    "version": 3
   },
   "file_extension": ".py",
   "mimetype": "text/x-python",
   "name": "python",
   "nbconvert_exporter": "python",
   "pygments_lexer": "ipython3",
   "version": "3.8.20"
  }
 },
 "nbformat": 4,
 "nbformat_minor": 2
}
