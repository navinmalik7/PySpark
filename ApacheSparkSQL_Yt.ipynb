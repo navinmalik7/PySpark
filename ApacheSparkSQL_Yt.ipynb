{
 "cells": [
  {
   "cell_type": "code",
   "execution_count": 4,
   "metadata": {},
   "outputs": [],
   "source": [
    "from pyspark.sql import SparkSession\n",
    "spark = SparkSession.builder.appName(\"SparkSQL\").getOrCreate()"
   ]
  },
  {
   "cell_type": "code",
   "execution_count": 5,
   "metadata": {},
   "outputs": [
    {
     "name": "stdout",
     "output_type": "stream",
     "text": [
      "+---------+---+-----------+\n",
      "|     Name|Age| Department|\n",
      "+---------+---+-----------+\n",
      "|    Alice| 30|         HR|\n",
      "|      Bob| 40|Engineering|\n",
      "|Catherine| 25|  Marketing|\n",
      "|    David| 35|    Finance|\n",
      "+---------+---+-----------+\n",
      "\n"
     ]
    }
   ],
   "source": [
    "data = [(\"Alice\", 30, \"HR\"), (\"Bob\", 40, \"Engineering\"), (\"Catherine\", 25, \"Marketing\"), (\"David\", 35, \"Finance\")]\n",
    "df = spark.createDataFrame(data, [\"Name\", \"Age\", \"Department\"])\n",
    "df.createOrReplaceTempView(\"employees\")\n",
    "result = spark.sql(\"SELECT * FROM employees\")\n",
    "result.show()"
   ]
  },
  {
   "cell_type": "code",
   "execution_count": 6,
   "metadata": {},
   "outputs": [
    {
     "name": "stdout",
     "output_type": "stream",
     "text": [
      "+-----+---+-----------+\n",
      "| Name|Age| Department|\n",
      "+-----+---+-----------+\n",
      "|  Bob| 40|Engineering|\n",
      "|David| 35|    Finance|\n",
      "+-----+---+-----------+\n",
      "\n"
     ]
    }
   ],
   "source": [
    "result = spark.sql(\"Select * from employees where Age > 30\")\n",
    "result.show()"
   ]
  },
  {
   "cell_type": "code",
   "execution_count": 7,
   "metadata": {},
   "outputs": [],
   "source": [
    "spark = SparkSession.builder \\\n",
    "    .appName(\"SQLServerConnection\") \\\n",
    "    .config(\"spark.driver.extraClassPath\", \"C:/HADOOP_HOME/bin/jars/mssql-jdbc-12.8.1.jre11.jar\") \\\n",
    "    .getOrCreate()"
   ]
  },
  {
   "cell_type": "code",
   "execution_count": 8,
   "metadata": {},
   "outputs": [
    {
     "name": "stdout",
     "output_type": "stream",
     "text": [
      "C:/HADOOP_HOME/bin/jars/mssql-jdbc-12.8.1.jre11.jar\n"
     ]
    }
   ],
   "source": [
    "print(spark.sparkContext.getConf().get(\"spark.driver.extraClassPath\"))"
   ]
  },
  {
   "cell_type": "code",
   "execution_count": 10,
   "metadata": {},
   "outputs": [],
   "source": [
    "from db_config import DATABASE_CONFIG\n",
    "spark = SparkSession.builder \\\n",
    "    .appName(\"SQLServerConnection\") \\\n",
    "    .config(\"spark.driver.extraClassPath\", DATABASE_CONFIG[\"jar_path\"]) \\\n",
    "    .getOrCreate()"
   ]
  },
  {
   "cell_type": "code",
   "execution_count": 13,
   "metadata": {},
   "outputs": [
    {
     "name": "stdout",
     "output_type": "stream",
     "text": [
      "+-----+---+----------+\n",
      "| Name|Age|Department|\n",
      "+-----+---+----------+\n",
      "|Rahul| 30|        HR|\n",
      "|Alice| 35| Marketing|\n",
      "+-----+---+----------+\n",
      "\n"
     ]
    }
   ],
   "source": [
    "df = spark.read.jdbc(url=DATABASE_CONFIG[\"url\"], table=\"employees\", properties= {\"user\": DATABASE_CONFIG[\"user\"], \"password\": DATABASE_CONFIG[\"password\"], \"driver\": DATABASE_CONFIG[\"driver\"]})\n",
    "df.show()"
   ]
  },
  {
   "cell_type": "code",
   "execution_count": 14,
   "metadata": {},
   "outputs": [
    {
     "name": "stdout",
     "output_type": "stream",
     "text": [
      "+-----+---+----------+\n",
      "| Name|Age|Department|\n",
      "+-----+---+----------+\n",
      "|Rahul| 30|        HR|\n",
      "|Alice| 35| Marketing|\n",
      "+-----+---+----------+\n",
      "\n"
     ]
    }
   ],
   "source": [
    "df.createOrReplaceTempView(\"employees\")\n",
    "result = spark.sql(\"SELECT * FROM employees\")\n",
    "result.show()"
   ]
  },
  {
   "cell_type": "code",
   "execution_count": 15,
   "metadata": {},
   "outputs": [
    {
     "name": "stdout",
     "output_type": "stream",
     "text": [
      "+-----+---+----------+\n",
      "| Name|Age|Department|\n",
      "+-----+---+----------+\n",
      "|Alice| 35| Marketing|\n",
      "+-----+---+----------+\n",
      "\n"
     ]
    }
   ],
   "source": [
    "result = spark.sql(\"Select * from employees where Age > 30\")\n",
    "result.show()"
   ]
  }
 ],
 "metadata": {
  "kernelspec": {
   "display_name": "pyspark_env",
   "language": "python",
   "name": "python3"
  },
  "language_info": {
   "codemirror_mode": {
    "name": "ipython",
    "version": 3
   },
   "file_extension": ".py",
   "mimetype": "text/x-python",
   "name": "python",
   "nbconvert_exporter": "python",
   "pygments_lexer": "ipython3",
   "version": "3.8.20"
  }
 },
 "nbformat": 4,
 "nbformat_minor": 2
}
