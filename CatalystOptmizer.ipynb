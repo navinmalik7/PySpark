{
 "cells": [
  {
   "cell_type": "code",
   "execution_count": 1,
   "metadata": {},
   "outputs": [],
   "source": [
    "from pyspark.sql import SparkSession"
   ]
  },
  {
   "cell_type": "code",
   "execution_count": 2,
   "metadata": {},
   "outputs": [],
   "source": [
    "from db_config import DATABASE_CONFIG\n",
    "spark = SparkSession.builder \\\n",
    "    .appName(\"SQLServerConnection\") \\\n",
    "    .config(\"spark.driver.extraClassPath\", DATABASE_CONFIG[\"jar_path\"]) \\\n",
    "    .getOrCreate()"
   ]
  },
  {
   "cell_type": "code",
   "execution_count": 4,
   "metadata": {},
   "outputs": [
    {
     "name": "stdout",
     "output_type": "stream",
     "text": [
      "+-----+---+----------+\n",
      "| Name|Age|Department|\n",
      "+-----+---+----------+\n",
      "|Alice| 35| Marketing|\n",
      "+-----+---+----------+\n",
      "\n"
     ]
    }
   ],
   "source": [
    "df = spark.read.jdbc(url=DATABASE_CONFIG[\"url\"], table=\"employees\", properties= {\"user\": DATABASE_CONFIG[\"user\"], \"password\": DATABASE_CONFIG[\"password\"], \"driver\": DATABASE_CONFIG[\"driver\"]}) \\\n",
    "        .filter(\"age > 30\")\n",
    "\n",
    "df.show()"
   ]
  },
  {
   "cell_type": "code",
   "execution_count": 5,
   "metadata": {},
   "outputs": [
    {
     "name": "stdout",
     "output_type": "stream",
     "text": [
      "+---+-------+---+\n",
      "| id|   name|age|\n",
      "+---+-------+---+\n",
      "|  1|  Alice| 30|\n",
      "|  2|    Bob| 40|\n",
      "|  3|Charlie| 50|\n",
      "+---+-------+---+\n",
      "\n"
     ]
    }
   ],
   "source": [
    "from pyspark.sql import SparkSession\n",
    "spark = SparkSession.builder.appName(\"CatalystExample\").getOrCreate()\n",
    "\n",
    "data = [(1, \"Alice\", 30), (2, \"Bob\", 40), (3, \"Charlie\", 50)]\n",
    "columns = [\"id\", \"name\", \"age\"]\n",
    "\n",
    "df = spark.createDataFrame(data, schema=columns)\n",
    "df.createOrReplaceTempView(\"people\") \n",
    "df.show()"
   ]
  },
  {
   "cell_type": "code",
   "execution_count": 6,
   "metadata": {},
   "outputs": [
    {
     "name": "stdout",
     "output_type": "stream",
     "text": [
      "== Physical Plan ==\n",
      "* Filter (2)\n",
      "+- * Scan ExistingRDD (1)\n",
      "\n",
      "\n",
      "(1) Scan ExistingRDD [codegen id : 1]\n",
      "Output [3]: [id#25L, name#26, age#27L]\n",
      "Arguments: [id#25L, name#26, age#27L], MapPartitionsRDD[7] at applySchemaToPythonRDD at NativeMethodAccessorImpl.java:0, ExistingRDD, UnknownPartitioning(0)\n",
      "\n",
      "(2) Filter [codegen id : 1]\n",
      "Input [3]: [id#25L, name#26, age#27L]\n",
      "Condition : (isnotnull(age#27L) AND (age#27L > 30))\n",
      "\n",
      "\n"
     ]
    }
   ],
   "source": [
    "optimized_df = spark.sql(\"SELECT * FROM people WHERE age > 30\") \n",
    "optimized_df.explain(mode=\"formatted\") # Shows optimized execution plan"
   ]
  }
 ],
 "metadata": {
  "kernelspec": {
   "display_name": "pyspark_env",
   "language": "python",
   "name": "python3"
  },
  "language_info": {
   "codemirror_mode": {
    "name": "ipython",
    "version": 3
   },
   "file_extension": ".py",
   "mimetype": "text/x-python",
   "name": "python",
   "nbconvert_exporter": "python",
   "pygments_lexer": "ipython3",
   "version": "3.8.20"
  }
 },
 "nbformat": 4,
 "nbformat_minor": 2
}
