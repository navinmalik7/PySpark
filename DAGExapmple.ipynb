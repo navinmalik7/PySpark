{
 "cells": [
  {
   "cell_type": "code",
   "execution_count": 4,
   "metadata": {},
   "outputs": [
    {
     "name": "stdout",
     "output_type": "stream",
     "text": [
      "Transformed RDD: [6, 8, 10]\n"
     ]
    }
   ],
   "source": [
    "from pyspark import SparkContext\n",
    "\n",
    "# Initialize SparkContext\n",
    "sc = SparkContext(\"local\", \"DAG Example\")\n",
    "\n",
    "# Create an RDD from a list of numbers\n",
    "data = [1, 2, 3, 4, 5]\n",
    "rdd = sc.parallelize(data)\n",
    "\n",
    "# Perform transformations (lazy evaluation)\n",
    "rdd_mapped = rdd.map(lambda x: x * 2)  # Multiply each element by 2\n",
    "rdd_filtered = rdd_mapped.filter(lambda x: x > 5)  # Filter elements greater than 5\n",
    "\n",
    "# Perform an action (triggers execution)\n",
    "result = rdd_filtered.collect()\n",
    "\n",
    "# Print the result\n",
    "print(\"Transformed RDD:\", result)\n",
    "\n",
    "# Stop the SparkContext\n",
    "sc.stop()"
   ]
  }
 ],
 "metadata": {
  "kernelspec": {
   "display_name": "pyspark_env",
   "language": "python",
   "name": "python3"
  },
  "language_info": {
   "codemirror_mode": {
    "name": "ipython",
    "version": 3
   },
   "file_extension": ".py",
   "mimetype": "text/x-python",
   "name": "python",
   "nbconvert_exporter": "python",
   "pygments_lexer": "ipython3",
   "version": "3.8.20"
  }
 },
 "nbformat": 4,
 "nbformat_minor": 2
}
