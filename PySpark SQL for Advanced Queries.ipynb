{
 "cells": [
  {
   "cell_type": "code",
   "execution_count": 1,
   "metadata": {
    "application/vnd.databricks.v1+cell": {
     "cellMetadata": {
      "byteLimit": 2048000,
      "rowLimit": 10000
     },
     "inputWidgets": {},
     "nuid": "d4952a22-e2fa-4c68-9392-304e0d862db7",
     "showTitle": false,
     "tableResultSettingsMap": {},
     "title": ""
    }
   },
   "outputs": [
    {
     "name": "stdout",
     "output_type": "stream",
     "text": [
      "<pyspark.sql.session.SparkSession object at 0x00000229A2250B80>\n"
     ]
    }
   ],
   "source": [
    "from pyspark.sql import SparkSession\n",
    "\n",
    "# Initialize Spark Session\n",
    "spark = SparkSession.builder.appName(\"PySparkSQLAdvanced\").getOrCreate()\n",
    "print(spark)"
   ]
  },
  {
   "cell_type": "code",
   "execution_count": 3,
   "metadata": {
    "application/vnd.databricks.v1+cell": {
     "cellMetadata": {
      "byteLimit": 2048000,
      "rowLimit": 10000
     },
     "inputWidgets": {},
     "nuid": "942de9a1-f78b-4308-9dc9-9a7aaae1befd",
     "showTitle": false,
     "tableResultSettingsMap": {},
     "title": ""
    }
   },
   "outputs": [
    {
     "name": "stdout",
     "output_type": "stream",
     "text": [
      "+---+-------+----------+------+-----+\n",
      "| id|   name|department|salary|bonus|\n",
      "+---+-------+----------+------+-----+\n",
      "|  1|  Alice|     Sales|  5000|  200|\n",
      "|  2|    Bob|   Finance|  6000|  300|\n",
      "|  3|Charlie|     Sales|  5500|  250|\n",
      "|  4|  David|   Finance|  7000|  400|\n",
      "|  5|    Eva|        HR|  4500|  150|\n",
      "+---+-------+----------+------+-----+\n",
      "only showing top 5 rows\n",
      "\n"
     ]
    }
   ],
   "source": [
    "# Load the dataset\n",
    "df = spark.read.format(\"csv\").option(\"header\", \"true\").load(\"Employee.csv\")\n",
    "\n",
    "# Show the first 5 rows\n",
    "df.show(5)"
   ]
  },
  {
   "cell_type": "code",
   "execution_count": 4,
   "metadata": {
    "application/vnd.databricks.v1+cell": {
     "cellMetadata": {
      "byteLimit": 2048000,
      "rowLimit": 10000
     },
     "inputWidgets": {},
     "nuid": "4bd50689-c8ab-4cfe-959c-1ab73f22a427",
     "showTitle": false,
     "tableResultSettingsMap": {},
     "title": ""
    }
   },
   "outputs": [],
   "source": [
    "df.createOrReplaceTempView(\"employees\")"
   ]
  },
  {
   "cell_type": "code",
   "execution_count": 5,
   "metadata": {
    "application/vnd.databricks.v1+cell": {
     "cellMetadata": {
      "byteLimit": 2048000,
      "rowLimit": 10000
     },
     "inputWidgets": {},
     "nuid": "9373d462-f36a-4459-ab33-24bc2dae0027",
     "showTitle": false,
     "tableResultSettingsMap": {},
     "title": ""
    }
   },
   "outputs": [
    {
     "name": "stdout",
     "output_type": "stream",
     "text": [
      "+---+-------+----------+------+-----+\n",
      "| id|   name|department|salary|bonus|\n",
      "+---+-------+----------+------+-----+\n",
      "|  2|    Bob|   Finance|  6000|  300|\n",
      "|  3|Charlie|     Sales|  5500|  250|\n",
      "|  4|  David|   Finance|  7000|  400|\n",
      "|  7|  Grace|     Sales|  5200|  220|\n",
      "|  8|   Hank|   Finance|  6500|  350|\n",
      "+---+-------+----------+------+-----+\n",
      "\n"
     ]
    }
   ],
   "source": [
    "result = spark.sql(\"SELECT * FROM employees WHERE salary > 5000\")\n",
    "result.show()"
   ]
  },
  {
   "cell_type": "code",
   "execution_count": 7,
   "metadata": {
    "application/vnd.databricks.v1+cell": {
     "cellMetadata": {
      "byteLimit": 2048000,
      "rowLimit": 10000
     },
     "inputWidgets": {},
     "nuid": "1203f4ed-82ac-43b9-8914-890e8b9bc6b5",
     "showTitle": false,
     "tableResultSettingsMap": {},
     "title": ""
    }
   },
   "outputs": [
    {
     "name": "stdout",
     "output_type": "stream",
     "text": [
      "+-------+----------+\n",
      "|   Name|avg_salary|\n",
      "+-------+----------+\n",
      "|  Grace|    5200.0|\n",
      "|    Eva|    4500.0|\n",
      "|   Hank|    6500.0|\n",
      "|Charlie|    5500.0|\n",
      "|    Bob|    6000.0|\n",
      "|  Alice|    5000.0|\n",
      "|  David|    7000.0|\n",
      "|  Frank|    4800.0|\n",
      "+-------+----------+\n",
      "\n"
     ]
    }
   ],
   "source": [
    "result = spark.sql(\"\"\"\n",
    "    SELECT Name, AVG(salary) AS avg_salary\n",
    "    FROM employees\n",
    "    GROUP BY Name\n",
    "\"\"\")\n",
    "result.show()"
   ]
  },
  {
   "cell_type": "code",
   "execution_count": 8,
   "metadata": {
    "application/vnd.databricks.v1+cell": {
     "cellMetadata": {
      "byteLimit": 2048000,
      "rowLimit": 10000
     },
     "inputWidgets": {},
     "nuid": "46167b64-d28d-49ea-bb95-4e7917d4dcef",
     "showTitle": false,
     "tableResultSettingsMap": {},
     "title": ""
    }
   },
   "outputs": [
    {
     "name": "stdout",
     "output_type": "stream",
     "text": [
      "+---+-------+----------+------+-----+-----------------+\n",
      "| id|   name|department|salary|bonus|cumulative_salary|\n",
      "+---+-------+----------+------+-----+-----------------+\n",
      "|  2|    Bob|   Finance|  6000|  300|           6000.0|\n",
      "|  8|   Hank|   Finance|  6500|  350|          12500.0|\n",
      "|  4|  David|   Finance|  7000|  400|          19500.0|\n",
      "|  5|    Eva|        HR|  4500|  150|           4500.0|\n",
      "|  6|  Frank|        HR|  4800| NULL|           9300.0|\n",
      "|  1|  Alice|     Sales|  5000|  200|           5000.0|\n",
      "|  7|  Grace|     Sales|  5200|  220|          10200.0|\n",
      "|  3|Charlie|     Sales|  5500|  250|          15700.0|\n",
      "+---+-------+----------+------+-----+-----------------+\n",
      "\n"
     ]
    }
   ],
   "source": [
    "from pyspark.sql.window import Window\n",
    "from pyspark.sql.functions import sum\n",
    "\n",
    "# Define a window specification\n",
    "window_spec = Window.partitionBy(\"department\").orderBy(\"salary\")\n",
    "\n",
    "# Add a cumulative salary column\n",
    "df_with_cumulative = df.withColumn(\"cumulative_salary\", sum(\"salary\").over(window_spec))\n",
    "\n",
    "# Show the result\n",
    "df_with_cumulative.show()"
   ]
  },
  {
   "cell_type": "code",
   "execution_count": 9,
   "metadata": {
    "application/vnd.databricks.v1+cell": {
     "cellMetadata": {
      "byteLimit": 2048000,
      "rowLimit": 10000
     },
     "inputWidgets": {},
     "nuid": "5c622dd3-5a8b-43fa-b363-75ca969c35dd",
     "showTitle": false,
     "tableResultSettingsMap": {},
     "title": ""
    }
   },
   "outputs": [
    {
     "name": "stdout",
     "output_type": "stream",
     "text": [
      "+---+------+\n",
      "| Id|salary|\n",
      "+---+------+\n",
      "|  2|  6000|\n",
      "|  4|  7000|\n",
      "|  8|  6500|\n",
      "+---+------+\n",
      "\n"
     ]
    }
   ],
   "source": [
    "result = spark.sql(\"\"\"\n",
    "    SELECT Id, salary\n",
    "    FROM employees\n",
    "    WHERE salary > (SELECT AVG(salary) FROM employees)\n",
    "\"\"\")\n",
    "result.show()"
   ]
  }
 ],
 "metadata": {
  "application/vnd.databricks.v1+notebook": {
   "computePreferences": null,
   "dashboards": [],
   "environmentMetadata": {
    "base_environment": "",
    "client": "1"
   },
   "language": "python",
   "notebookMetadata": {
    "pythonIndentUnit": 4
   },
   "notebookName": "PySpark SQL for Advanced Queries",
   "widgets": {}
  },
  "kernelspec": {
   "display_name": "pyspark_env",
   "language": "python",
   "name": "python3"
  },
  "language_info": {
   "codemirror_mode": {
    "name": "ipython",
    "version": 3
   },
   "file_extension": ".py",
   "mimetype": "text/x-python",
   "name": "python",
   "nbconvert_exporter": "python",
   "pygments_lexer": "ipython3",
   "version": "3.8.20"
  }
 },
 "nbformat": 4,
 "nbformat_minor": 0
}
