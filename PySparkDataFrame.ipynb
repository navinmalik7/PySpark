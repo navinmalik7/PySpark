{
 "cells": [
  {
   "cell_type": "code",
   "execution_count": 1,
   "metadata": {},
   "outputs": [
    {
     "name": "stdout",
     "output_type": "stream",
     "text": [
      "+-------+---+\n",
      "|   Name|Age|\n",
      "+-------+---+\n",
      "|  Alice| 25|\n",
      "|    Bob| 30|\n",
      "|Charlie| 35|\n",
      "+-------+---+\n",
      "\n"
     ]
    }
   ],
   "source": [
    "from pyspark.sql import SparkSession\n",
    "\n",
    "# Initialize Spark session\n",
    "spark = SparkSession.builder.appName(\"DataFrame Example\").getOrCreate()\n",
    "\n",
    "# Create a DataFrame from a list of tuples\n",
    "data = [(\"Alice\", 25), (\"Bob\", 30), (\"Charlie\", 35)]\n",
    "columns = [\"Name\", \"Age\"]\n",
    "df = spark.createDataFrame(data, columns)\n",
    "\n",
    "# Show the DataFrame\n",
    "df.show()"
   ]
  },
  {
   "cell_type": "code",
   "execution_count": 3,
   "metadata": {},
   "outputs": [
    {
     "name": "stdout",
     "output_type": "stream",
     "text": [
      "+---+-------+----------+------+-----+\n",
      "| id|   name|department|salary|bonus|\n",
      "+---+-------+----------+------+-----+\n",
      "|  1|  Alice|     Sales|  5000|  200|\n",
      "|  2|    Bob|   Finance|  6000|  300|\n",
      "|  3|Charlie|     Sales|  5500|  250|\n",
      "|  4|  David|   Finance|  7000|  400|\n",
      "|  5|    Eva|        HR|  4500|  150|\n",
      "|  6|  Frank|        HR|  4800| NULL|\n",
      "|  7|  Grace|     Sales|  5200|  220|\n",
      "|  8|   Hank|   Finance|  6500|  350|\n",
      "+---+-------+----------+------+-----+\n",
      "\n"
     ]
    }
   ],
   "source": [
    "# Read a CSV file into a DataFrame\n",
    "df1 = spark.read.csv(\"Employee.csv\", header=True, inferSchema=True)\n",
    "\n",
    "# Show the DataFrame\n",
    "df1.show()"
   ]
  },
  {
   "cell_type": "code",
   "execution_count": 4,
   "metadata": {},
   "outputs": [
    {
     "name": "stdout",
     "output_type": "stream",
     "text": [
      "+-------+\n",
      "|   Name|\n",
      "+-------+\n",
      "|  Alice|\n",
      "|    Bob|\n",
      "|Charlie|\n",
      "+-------+\n",
      "\n"
     ]
    }
   ],
   "source": [
    "# Select the \"Name\" column\n",
    "df.select(\"Name\").show()"
   ]
  },
  {
   "cell_type": "code",
   "execution_count": 5,
   "metadata": {},
   "outputs": [
    {
     "name": "stdout",
     "output_type": "stream",
     "text": [
      "+-------+---+\n",
      "|   Name|Age|\n",
      "+-------+---+\n",
      "|Charlie| 35|\n",
      "+-------+---+\n",
      "\n"
     ]
    }
   ],
   "source": [
    "# Filter rows where Age > 30\n",
    "df.filter(df.Age > 30).show()"
   ]
  },
  {
   "cell_type": "code",
   "execution_count": 6,
   "metadata": {},
   "outputs": [
    {
     "name": "stdout",
     "output_type": "stream",
     "text": [
      "+-------+---------+\n",
      "|   Name|Total Age|\n",
      "+-------+---------+\n",
      "|  Alice|       25|\n",
      "|    Bob|       30|\n",
      "|Charlie|       35|\n",
      "+-------+---------+\n",
      "\n"
     ]
    }
   ],
   "source": [
    "from pyspark.sql.functions import sum, avg\n",
    "\n",
    "# Group by \"Name\" and calculate the sum of \"Age\"\n",
    "df.groupBy(\"Name\").agg(sum(\"Age\").alias(\"Total Age\")).show()"
   ]
  },
  {
   "cell_type": "code",
   "execution_count": 7,
   "metadata": {},
   "outputs": [
    {
     "name": "stdout",
     "output_type": "stream",
     "text": [
      "+-------+---+-------+\n",
      "|   Name|Age|Country|\n",
      "+-------+---+-------+\n",
      "|  Alice| 25|    USA|\n",
      "|    Bob| 30|    USA|\n",
      "|Charlie| 35|    USA|\n",
      "+-------+---+-------+\n",
      "\n"
     ]
    }
   ],
   "source": [
    "from pyspark.sql.functions import lit\n",
    "\n",
    "# Add a new column \"Country\" with value \"USA\"\n",
    "df = df.withColumn(\"Country\", lit(\"USA\"))\n",
    "df.show()"
   ]
  },
  {
   "cell_type": "code",
   "execution_count": 9,
   "metadata": {},
   "outputs": [
    {
     "name": "stdout",
     "output_type": "stream",
     "text": [
      "New Row DataFrame:\n",
      "+-------+---+---+\n",
      "|   Name|Age| _3|\n",
      "+-------+---+---+\n",
      "|Charlie| 35|USA|\n",
      "+-------+---+---+\n",
      "\n"
     ]
    }
   ],
   "source": [
    "# New row to insert\n",
    "new_row = [(\"Charlie\", 35, \"USA\")]\n",
    "\n",
    "# Create a DataFrame for the new row\n",
    "new_df = spark.createDataFrame(new_row, columns)\n",
    "\n",
    "# Show the new row DataFrame\n",
    "print(\"New Row DataFrame:\")\n",
    "new_df.show()"
   ]
  },
  {
   "cell_type": "code",
   "execution_count": 10,
   "metadata": {},
   "outputs": [
    {
     "name": "stdout",
     "output_type": "stream",
     "text": [
      "+-------+---+-------+\n",
      "|   Name|Age|Country|\n",
      "+-------+---+-------+\n",
      "|  Alice| 25|    USA|\n",
      "|    Bob| 30|    USA|\n",
      "|Charlie| 35|    USA|\n",
      "|Charlie| 35|    USA|\n",
      "+-------+---+-------+\n",
      "\n"
     ]
    }
   ],
   "source": [
    "combined_df = df.union(new_df)\n",
    "combined_df.show()"
   ]
  },
  {
   "cell_type": "code",
   "execution_count": 11,
   "metadata": {},
   "outputs": [
    {
     "name": "stdout",
     "output_type": "stream",
     "text": [
      "+-------+---+-------+\n",
      "|   Name|Age|Country|\n",
      "+-------+---+-------+\n",
      "|  Alice| 25|    USA|\n",
      "|    Bob| 30|    USA|\n",
      "|Charlie| 35|    USA|\n",
      "+-------+---+-------+\n",
      "\n"
     ]
    }
   ],
   "source": [
    "# Drop duplicate rows\n",
    "combined_df.dropDuplicates().show()"
   ]
  },
  {
   "cell_type": "code",
   "execution_count": 12,
   "metadata": {},
   "outputs": [
    {
     "name": "stdout",
     "output_type": "stream",
     "text": [
      "+-------+-----+-------+\n",
      "|   Name|Years|Country|\n",
      "+-------+-----+-------+\n",
      "|  Alice|   25|    USA|\n",
      "|    Bob|   30|    USA|\n",
      "|Charlie|   35|    USA|\n",
      "+-------+-----+-------+\n",
      "\n"
     ]
    }
   ],
   "source": [
    "df = df.withColumnRenamed(\"Age\", \"Years\")\n",
    "df.show()"
   ]
  },
  {
   "cell_type": "code",
   "execution_count": null,
   "metadata": {},
   "outputs": [
    {
     "name": "stdout",
     "output_type": "stream",
     "text": [
      "+-------+-----+-------+----------+\n",
      "|   Name|Years|Country|Department|\n",
      "+-------+-----+-------+----------+\n",
      "|  Alice|   25|    USA|     Sales|\n",
      "|    Bob|   30|    USA|   Finance|\n",
      "|Charlie|   35|    USA|        HR|\n",
      "+-------+-----+-------+----------+\n",
      "\n"
     ]
    },
    {
     "ename": "",
     "evalue": "",
     "output_type": "error",
     "traceback": [
      "\u001b[1;31mThe Kernel crashed while executing code in the current cell or a previous cell. \n",
      "\u001b[1;31mPlease review the code in the cell(s) to identify a possible cause of the failure. \n",
      "\u001b[1;31mClick <a href='https://aka.ms/vscodeJupyterKernelCrash'>here</a> for more info. \n",
      "\u001b[1;31mView Jupyter <a href='command:jupyter.viewOutput'>log</a> for further details."
     ]
    }
   ],
   "source": [
    "# Create another DataFrame with additional information\n",
    "data3 = [(\"Alice\", \"Sales\"), (\"Bob\", \"Finance\"), (\"Charlie\", \"HR\")]\n",
    "columns2 = [\"Name\", \"Department\"]\n",
    "df3 = spark.createDataFrame(data3, columns2)\n",
    "\n",
    "# Join the DataFrames on the \"Name\" column\n",
    "df_join = df.join(df3, on=\"Name\", how=\"inner\")\n",
    "df_join.show()"
   ]
  }
 ],
 "metadata": {
  "kernelspec": {
   "display_name": "pyspark_env",
   "language": "python",
   "name": "python3"
  },
  "language_info": {
   "codemirror_mode": {
    "name": "ipython",
    "version": 3
   },
   "file_extension": ".py",
   "mimetype": "text/x-python",
   "name": "python",
   "nbconvert_exporter": "python",
   "pygments_lexer": "ipython3",
   "version": "3.8.20"
  }
 },
 "nbformat": 4,
 "nbformat_minor": 2
}
