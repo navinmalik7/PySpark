{
 "cells": [
  {
   "cell_type": "code",
   "execution_count": 3,
   "metadata": {},
   "outputs": [],
   "source": [
    "from pyspark.sql import SparkSession\n",
    "\n",
    "# Create SparkSession\n",
    "spark = SparkSession.builder.appName(\"Word Count Example\").getOrCreate()"
   ]
  },
  {
   "cell_type": "markdown",
   "metadata": {},
   "source": [
    "Before Optmization"
   ]
  },
  {
   "cell_type": "code",
   "execution_count": 4,
   "metadata": {},
   "outputs": [
    {
     "name": "stdout",
     "output_type": "stream",
     "text": [
      "[('1', 1), ('Alice', 1), ('Sales', 3), ('5000', 1), ('200', 1), ('2', 1), ('Bob', 1), ('Finance', 3), ('6000', 1), ('300', 1), ('3', 1), ('Charlie', 1), ('5500', 1), ('250', 1), ('4', 1), ('David', 1), ('7000', 1), ('400', 1), ('5', 1), ('Eva', 1), ('HR', 2), ('4500', 1), ('150', 1), ('6', 1), ('Frank', 1), ('4800', 1), ('NULL', 1), ('7', 1), ('Grace', 1), ('5200', 1), ('220', 1), ('8', 1), ('Hank', 1), ('6500', 1), ('350', 1)]\n"
     ]
    }
   ],
   "source": [
    "# Read a csv file\n",
    "df = spark.read.csv(\"Employee.csv\", header=True, inferSchema=True)\n",
    "\n",
    "# Convert DataFrame to RDD\n",
    "rdd = df.rdd.map(lambda row: \" \".join([str(item) for item in row]))\n",
    "\n",
    "# Count word occurrences\n",
    "word_counts = rdd.flatMap(lambda line: line.split(\" \")) \\\n",
    "                 .map(lambda word: (word, 1)) \\\n",
    "                 .reduceByKey(lambda a, b: a + b)\n",
    "\n",
    "# Print the results\n",
    "print(word_counts.collect())"
   ]
  },
  {
   "cell_type": "markdown",
   "metadata": {},
   "source": [
    "After Optmization"
   ]
  },
  {
   "cell_type": "code",
   "execution_count": 6,
   "metadata": {},
   "outputs": [
    {
     "data": {
      "text/plain": [
       "[('Sales', 3),\n",
       " ('4', 1),\n",
       " ('Bob', 1),\n",
       " ('7', 1),\n",
       " ('Frank', 1),\n",
       " ('David', 1),\n",
       " ('Alice', 1),\n",
       " ('150', 1),\n",
       " ('6000', 1),\n",
       " ('6', 1),\n",
       " ('6500', 1),\n",
       " ('300', 1),\n",
       " ('4500', 1),\n",
       " ('4800', 1),\n",
       " ('7000', 1),\n",
       " ('Finance', 3),\n",
       " ('NULL', 1),\n",
       " ('200', 1),\n",
       " ('5200', 1),\n",
       " ('400', 1),\n",
       " ('350', 1),\n",
       " ('8', 1),\n",
       " ('HR', 2),\n",
       " ('Eva', 1),\n",
       " ('Hank', 1),\n",
       " ('Charlie', 1),\n",
       " ('5000', 1),\n",
       " ('1', 1),\n",
       " ('2', 1),\n",
       " ('250', 1),\n",
       " ('Grace', 1),\n",
       " ('3', 1),\n",
       " ('5', 1),\n",
       " ('5500', 1),\n",
       " ('220', 1)]"
      ]
     },
     "execution_count": 6,
     "metadata": {},
     "output_type": "execute_result"
    }
   ],
   "source": [
    "# Read a csv file\n",
    "df = spark.read.csv(\"Employee.csv\", header=True, inferSchema=True)\n",
    "# Repartition for better parallelism\n",
    "rdd = rdd.repartition(100)\n",
    "\n",
    "# Count word occurrences efficiently\n",
    "word_counts = rdd.flatMap(lambda line: line.split(\" \")) \\\n",
    "                 .map(lambda word: (word, 1)) \\\n",
    "                 .reduceByKey(lambda x, y: x + y)  # Use reduceByKey instead of groupByKey\n",
    "\n",
    "# Cache the result\n",
    "word_counts.cache()\n",
    "\n",
    "# Print the results\n",
    "word_counts.collect()"
   ]
  },
  {
   "cell_type": "code",
   "execution_count": 7,
   "metadata": {},
   "outputs": [
    {
     "data": {
      "text/plain": [
       "[('Sales', 3),\n",
       " ('4', 1),\n",
       " ('Bob', 1),\n",
       " ('7', 1),\n",
       " ('Frank', 1),\n",
       " ('David', 1),\n",
       " ('Alice', 1),\n",
       " ('150', 1),\n",
       " ('6000', 1),\n",
       " ('6', 1),\n",
       " ('6500', 1),\n",
       " ('300', 1),\n",
       " ('4500', 1),\n",
       " ('4800', 1),\n",
       " ('7000', 1),\n",
       " ('Finance', 3),\n",
       " ('NULL', 1),\n",
       " ('200', 1),\n",
       " ('5200', 1),\n",
       " ('400', 1),\n",
       " ('350', 1),\n",
       " ('8', 1),\n",
       " ('HR', 2),\n",
       " ('Eva', 1),\n",
       " ('Hank', 1),\n",
       " ('Charlie', 1),\n",
       " ('5000', 1),\n",
       " ('1', 1),\n",
       " ('2', 1),\n",
       " ('250', 1),\n",
       " ('Grace', 1),\n",
       " ('3', 1),\n",
       " ('5', 1),\n",
       " ('5500', 1),\n",
       " ('220', 1)]"
      ]
     },
     "execution_count": 7,
     "metadata": {},
     "output_type": "execute_result"
    }
   ],
   "source": [
    "word_counts.collect()"
   ]
  }
 ],
 "metadata": {
  "kernelspec": {
   "display_name": "pyspark_env",
   "language": "python",
   "name": "python3"
  },
  "language_info": {
   "codemirror_mode": {
    "name": "ipython",
    "version": 3
   },
   "file_extension": ".py",
   "mimetype": "text/x-python",
   "name": "python",
   "nbconvert_exporter": "python",
   "pygments_lexer": "ipython3",
   "version": "3.8.20"
  }
 },
 "nbformat": 4,
 "nbformat_minor": 2
}
