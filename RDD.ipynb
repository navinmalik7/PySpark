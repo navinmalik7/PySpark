{
 "cells": [
  {
   "cell_type": "code",
   "execution_count": 1,
   "metadata": {},
   "outputs": [
    {
     "name": "stdout",
     "output_type": "stream",
     "text": [
      "RDD Content: [1, 2, 3, 4, 5]\n"
     ]
    }
   ],
   "source": [
    "from pyspark import SparkContext\n",
    "\n",
    "# Initialize SparkContext\n",
    "sc = SparkContext(\"local\", \"RDD Example\")\n",
    "\n",
    "# Create an RDD from a list of numbers\n",
    "data = [1, 2, 3, 4, 5]\n",
    "rdd = sc.parallelize(data)\n",
    "\n",
    "# Print the RDD\n",
    "print(\"RDD Content:\", rdd.collect())"
   ]
  },
  {
   "cell_type": "code",
   "execution_count": 2,
   "metadata": {},
   "outputs": [
    {
     "name": "stdout",
     "output_type": "stream",
     "text": [
      "Mapped RDD: [2, 4, 6, 8, 10]\n"
     ]
    }
   ],
   "source": [
    "# Multiply each element by 2\n",
    "rdd_mapped = rdd.map(lambda x: x * 2)\n",
    "\n",
    "# Print the transformed RDD\n",
    "print(\"Mapped RDD:\", rdd_mapped.collect())"
   ]
  },
  {
   "cell_type": "code",
   "execution_count": 3,
   "metadata": {},
   "outputs": [
    {
     "name": "stdout",
     "output_type": "stream",
     "text": [
      "Filtered RDD: [4, 5]\n"
     ]
    }
   ],
   "source": [
    "# Filter elements greater than 3\n",
    "rdd_filtered = rdd.filter(lambda x: x > 3)\n",
    "\n",
    "# Print the filtered RDD\n",
    "print(\"Filtered RDD:\", rdd_filtered.collect())"
   ]
  },
  {
   "cell_type": "code",
   "execution_count": 4,
   "metadata": {},
   "outputs": [
    {
     "name": "stdout",
     "output_type": "stream",
     "text": [
      "FlatMapped RDD: ['Hello', 'world', 'Apache', 'Spark']\n"
     ]
    }
   ],
   "source": [
    "# Split a sentence into words\n",
    "data = [\"Hello world\", \"Apache Spark\"]\n",
    "rdd = sc.parallelize(data)\n",
    "rdd_flat_mapped = rdd.flatMap(lambda x: x.split(\" \"))\n",
    "\n",
    "# Print the flattened RDD\n",
    "print(\"FlatMapped RDD:\", rdd_flat_mapped.collect())"
   ]
  },
  {
   "cell_type": "code",
   "execution_count": 8,
   "metadata": {},
   "outputs": [
    {
     "name": "stdout",
     "output_type": "stream",
     "text": [
      "RDD Content: [1, 2, 3, 4, 5]\n"
     ]
    }
   ],
   "source": [
    "from pyspark import SparkContext\n",
    "\n",
    "# Initialize SparkContext\n",
    "# sc = SparkContext(\"local\", \"RDD Example\")\n",
    "\n",
    "# Create an RDD from a list of numbers\n",
    "data = [1, 2, 3, 4, 5]\n",
    "rdd = sc.parallelize(data)\n",
    "\n",
    "# Print the RDD\n",
    "print(\"RDD Content:\", rdd.collect())"
   ]
  },
  {
   "cell_type": "code",
   "execution_count": 9,
   "metadata": {},
   "outputs": [
    {
     "name": "stdout",
     "output_type": "stream",
     "text": [
      "Collected RDD: [1, 2, 3, 4, 5]\n"
     ]
    }
   ],
   "source": [
    "# Collect all elements\n",
    "result = rdd.collect()\n",
    "print(\"Collected RDD:\", result)"
   ]
  },
  {
   "cell_type": "code",
   "execution_count": 10,
   "metadata": {},
   "outputs": [
    {
     "name": "stdout",
     "output_type": "stream",
     "text": [
      "Number of elements: 5\n"
     ]
    }
   ],
   "source": [
    "# Count the number of elements\n",
    "count = rdd.count()\n",
    "print(\"Number of elements:\", count)"
   ]
  },
  {
   "cell_type": "code",
   "execution_count": 11,
   "metadata": {},
   "outputs": [
    {
     "name": "stdout",
     "output_type": "stream",
     "text": [
      "Sum of elements: 15\n"
     ]
    }
   ],
   "source": [
    "# Sum all elements\n",
    "total = rdd.reduce(lambda x, y: x + y)\n",
    "print(\"Sum of elements:\", total)"
   ]
  },
  {
   "cell_type": "code",
   "execution_count": 13,
   "metadata": {},
   "outputs": [
    {
     "name": "stdout",
     "output_type": "stream",
     "text": [
      "Word Counts: [('Hello', 2), ('world', 1), ('Apache', 1), ('Spark', 2), ('is', 1), ('awesome', 1)]\n"
     ]
    }
   ],
   "source": [
    "from pyspark import SparkContext\n",
    "\n",
    "# Initialize SparkContext\n",
    "#sc = SparkContext(\"local\", \"Word Count Example\")\n",
    "\n",
    "# Create an RDD from a list of sentences\n",
    "data = [\"Hello world\", \"Hello Apache Spark\", \"Spark is awesome\"]\n",
    "rdd = sc.parallelize(data)\n",
    "\n",
    "# Split sentences into words and count occurrences\n",
    "word_counts = rdd.flatMap(lambda x: x.split(\" \")) \\\n",
    "                 .map(lambda word: (word, 1)) \\\n",
    "                 .reduceByKey(lambda x, y: x + y)\n",
    "\n",
    "# Print the word counts\n",
    "print(\"Word Counts:\", word_counts.collect())\n",
    "\n",
    "# Stop the SparkContext\n",
    "sc.stop()"
   ]
  }
 ],
 "metadata": {
  "kernelspec": {
   "display_name": "pyspark_env",
   "language": "python",
   "name": "python3"
  },
  "language_info": {
   "codemirror_mode": {
    "name": "ipython",
    "version": 3
   },
   "file_extension": ".py",
   "mimetype": "text/x-python",
   "name": "python",
   "nbconvert_exporter": "python",
   "pygments_lexer": "ipython3",
   "version": "3.8.20"
  }
 },
 "nbformat": 4,
 "nbformat_minor": 2
}
