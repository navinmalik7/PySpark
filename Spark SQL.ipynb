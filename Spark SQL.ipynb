{
 "cells": [
  {
   "cell_type": "code",
   "execution_count": 1,
   "metadata": {},
   "outputs": [],
   "source": [
    "from pyspark.sql import SparkSession\n",
    "\n",
    "# Create Spark Session\n",
    "spark = SparkSession.builder.appName(\"SparkSQL_Example\").getOrCreate()\n"
   ]
  },
  {
   "cell_type": "code",
   "execution_count": 2,
   "metadata": {},
   "outputs": [],
   "source": [
    "data = [(\"Alice\", 30, \"HR\"), (\"Bob\", 28, \"Finance\"), (\"Charlie\", 32, \"IT\")]\n",
    "\n",
    "# Create DataFrame\n",
    "df = spark.createDataFrame(data, [\"Name\", \"Age\", \"Department\"])\n",
    "\n",
    "# Register DataFrame as a SQL Table\n",
    "df.createOrReplaceTempView(\"employees\")\n"
   ]
  },
  {
   "cell_type": "code",
   "execution_count": 3,
   "metadata": {},
   "outputs": [
    {
     "name": "stdout",
     "output_type": "stream",
     "text": [
      "+-------+---+----------+\n",
      "|   Name|Age|Department|\n",
      "+-------+---+----------+\n",
      "|  Alice| 30|        HR|\n",
      "|    Bob| 28|   Finance|\n",
      "|Charlie| 32|        IT|\n",
      "+-------+---+----------+\n",
      "\n"
     ]
    }
   ],
   "source": [
    "# Select all data\n",
    "result = spark.sql(\"SELECT * FROM employees\")\n",
    "result.show()\n"
   ]
  },
  {
   "cell_type": "code",
   "execution_count": 4,
   "metadata": {},
   "outputs": [
    {
     "name": "stdout",
     "output_type": "stream",
     "text": [
      "+-------+---+----------+\n",
      "|   Name|Age|Department|\n",
      "+-------+---+----------+\n",
      "|  Alice| 30|        HR|\n",
      "|Charlie| 32|        IT|\n",
      "+-------+---+----------+\n",
      "\n"
     ]
    }
   ],
   "source": [
    "result = spark.sql(\"SELECT * FROM employees WHERE Age > 28\")\n",
    "result.show()"
   ]
  },
  {
   "cell_type": "code",
   "execution_count": 2,
   "metadata": {},
   "outputs": [],
   "source": [
    "from pyspark.sql import SparkSession\n",
    "\n",
    "spark = SparkSession.builder \\\n",
    "    .appName(\"SQLServerConnection\") \\\n",
    "    .config(\"spark.driver.extraClassPath\", \"C:/HADOOP_HOME/bin/jars/mssql-jdbc-12.8.1.jre11.jar\") \\\n",
    "    .getOrCreate()\n"
   ]
  },
  {
   "cell_type": "code",
   "execution_count": null,
   "metadata": {},
   "outputs": [],
   "source": [
    "#set SPARK_CLASSPATH=C:\\HADOOP_HOME\\bin\\jars\\mssql-jdbc-12.8.1.jre11.jar"
   ]
  },
  {
   "cell_type": "code",
   "execution_count": 13,
   "metadata": {},
   "outputs": [],
   "source": [
    "import findspark\n",
    "findspark.init()"
   ]
  },
  {
   "cell_type": "code",
   "execution_count": 3,
   "metadata": {},
   "outputs": [
    {
     "name": "stdout",
     "output_type": "stream",
     "text": [
      "C:/HADOOP_HOME/bin/jars/mssql-jdbc-12.8.1.jre11.jar\n"
     ]
    }
   ],
   "source": [
    "print(spark.sparkContext.getConf().get(\"spark.driver.extraClassPath\"))\n"
   ]
  },
  {
   "cell_type": "code",
   "execution_count": 21,
   "metadata": {},
   "outputs": [
    {
     "name": "stdout",
     "output_type": "stream",
     "text": [
      "+----+---+----------+\n",
      "|Name|Age|Department|\n",
      "+----+---+----------+\n",
      "+----+---+----------+\n",
      "\n"
     ]
    }
   ],
   "source": [
    "jdbc_url = \"jdbc:sqlserver://localhost:1434;databaseName=SparkDatabase;trustServerCertificate=true\"\n",
    "properties = {\n",
    "    \"user\": \"sa\",\n",
    "    \"password\": \"Navin195@\",\n",
    "    \"driver\": \"com.microsoft.sqlserver.jdbc.SQLServerDriver\"\n",
    "}\n",
    "\n",
    "df = spark.read.jdbc(url=jdbc_url, table=\"employees\", properties=properties)\n",
    "df.show()\n"
   ]
  },
  {
   "cell_type": "code",
   "execution_count": 23,
   "metadata": {},
   "outputs": [
    {
     "name": "stdout",
     "output_type": "stream",
     "text": [
      "+----+---+----------+\n",
      "|Name|Age|Department|\n",
      "+----+---+----------+\n",
      "+----+---+----------+\n",
      "\n"
     ]
    }
   ],
   "source": [
    "from pyspark.sql import SparkSession\n",
    "from db_config import DATABASE_CONFIG  # Import connection settings\n",
    "\n",
    "# Initialize Spark Session\n",
    "spark = SparkSession.builder \\\n",
    "    .appName(\"SQLServerConnection\") \\\n",
    "    .config(\"spark.driver.extraClassPath\", DATABASE_CONFIG[\"jar_path\"]) \\\n",
    "    .getOrCreate()\n",
    "\n",
    "# Read from SQL Server\n",
    "df = spark.read.jdbc(\n",
    "    url=DATABASE_CONFIG[\"url\"],\n",
    "    table=\"employees\",\n",
    "    properties={\n",
    "        \"user\": DATABASE_CONFIG[\"user\"],\n",
    "        \"password\": DATABASE_CONFIG[\"password\"],\n",
    "        \"driver\": DATABASE_CONFIG[\"driver\"]\n",
    "    }\n",
    ")\n",
    "\n",
    "df.show()\n"
   ]
  }
 ],
 "metadata": {
  "kernelspec": {
   "display_name": "pyspark_env",
   "language": "python",
   "name": "python3"
  },
  "language_info": {
   "codemirror_mode": {
    "name": "ipython",
    "version": 3
   },
   "file_extension": ".py",
   "mimetype": "text/x-python",
   "name": "python",
   "nbconvert_exporter": "python",
   "pygments_lexer": "ipython3",
   "version": "3.8.20"
  }
 },
 "nbformat": 4,
 "nbformat_minor": 2
}
