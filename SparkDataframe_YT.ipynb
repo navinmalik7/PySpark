{
 "cells": [
  {
   "cell_type": "code",
   "execution_count": null,
   "metadata": {},
   "outputs": [
    {
     "name": "stderr",
     "output_type": "stream",
     "text": [
      "----------------------------------------\n",
      "Exception happened during processing of request from ('127.0.0.1', 64928)\n",
      "Traceback (most recent call last):\n",
      "  File \"c:\\Users\\navin\\anaconda3\\envs\\pyspark_env\\lib\\socketserver.py\", line 316, in _handle_request_noblock\n",
      "    self.process_request(request, client_address)\n",
      "  File \"c:\\Users\\navin\\anaconda3\\envs\\pyspark_env\\lib\\socketserver.py\", line 347, in process_request\n",
      "    self.finish_request(request, client_address)\n",
      "  File \"c:\\Users\\navin\\anaconda3\\envs\\pyspark_env\\lib\\socketserver.py\", line 360, in finish_request\n",
      "    self.RequestHandlerClass(request, client_address, self)\n",
      "  File \"c:\\Users\\navin\\anaconda3\\envs\\pyspark_env\\lib\\socketserver.py\", line 747, in __init__\n",
      "    self.handle()\n",
      "  File \"c:\\Users\\navin\\anaconda3\\envs\\pyspark_env\\lib\\site-packages\\pyspark\\accumulators.py\", line 295, in handle\n",
      "    poll(accum_updates)\n",
      "  File \"c:\\Users\\navin\\anaconda3\\envs\\pyspark_env\\lib\\site-packages\\pyspark\\accumulators.py\", line 267, in poll\n",
      "    if self.rfile in r and func():\n",
      "  File \"c:\\Users\\navin\\anaconda3\\envs\\pyspark_env\\lib\\site-packages\\pyspark\\accumulators.py\", line 271, in accum_updates\n",
      "    num_updates = read_int(self.rfile)\n",
      "  File \"c:\\Users\\navin\\anaconda3\\envs\\pyspark_env\\lib\\site-packages\\pyspark\\serializers.py\", line 594, in read_int\n",
      "    length = stream.read(4)\n",
      "  File \"c:\\Users\\navin\\anaconda3\\envs\\pyspark_env\\lib\\socket.py\", line 681, in readinto\n",
      "    return self._sock.recv_into(b)\n",
      "ConnectionResetError: [WinError 10054] An existing connection was forcibly closed by the remote host\n",
      "----------------------------------------\n"
     ]
    }
   ],
   "source": [
    "from pyspark.sql import SparkSession\n",
    "\n",
    "# Initialize Spark session\n",
    "spark = SparkSession.builder.appName(\"DataFrame Example\").getOrCreate()\n",
    "\n"
   ]
  },
  {
   "cell_type": "code",
   "execution_count": 2,
   "metadata": {},
   "outputs": [
    {
     "name": "stdout",
     "output_type": "stream",
     "text": [
      "+---------+---+\n",
      "|     Name|Age|\n",
      "+---------+---+\n",
      "|    Alice| 34|\n",
      "|      Bob| 45|\n",
      "|Catherine| 34|\n",
      "|    David| 37|\n",
      "|     Ella| 23|\n",
      "+---------+---+\n",
      "\n"
     ]
    }
   ],
   "source": [
    "data = [(\"Alice\", 34), (\"Bob\", 45), (\"Catherine\", 34), (\"David\", 37), (\"Ella\", 23)]\n",
    "columns = [\"Name\", \"Age\"]\n",
    "df = spark.createDataFrame(data, columns)\n",
    "df.show()"
   ]
  },
  {
   "cell_type": "code",
   "execution_count": 20,
   "metadata": {},
   "outputs": [
    {
     "name": "stdout",
     "output_type": "stream",
     "text": [
      "+---+-------+----------+------+-----+\n",
      "| id|   name|department|salary|bonus|\n",
      "+---+-------+----------+------+-----+\n",
      "|  1|  Alice|     Sales|  5000|  200|\n",
      "|  2|    Bob|   Finance|  6000|  300|\n",
      "|  3|Charlie|     Sales|  5500|  250|\n",
      "|  4|  David|   Finance|  7000|  400|\n",
      "|  5|    Eva|        HR|  4500|  150|\n",
      "|  6|  Frank|        HR|  4800| NULL|\n",
      "|  7|  Grace|     Sales|  5200|  220|\n",
      "|  8|   Hank|   Finance|  6500|  350|\n",
      "+---+-------+----------+------+-----+\n",
      "\n"
     ]
    }
   ],
   "source": [
    "df = spark.read.csv(\"Employee.csv\", header=True, inferSchema=True)\n",
    "df.show()"
   ]
  },
  {
   "cell_type": "code",
   "execution_count": 21,
   "metadata": {},
   "outputs": [
    {
     "name": "stdout",
     "output_type": "stream",
     "text": [
      "+-------+------+\n",
      "|   Name|Salary|\n",
      "+-------+------+\n",
      "|  Alice|  5000|\n",
      "|    Bob|  6000|\n",
      "|Charlie|  5500|\n",
      "|  David|  7000|\n",
      "|    Eva|  4500|\n",
      "|  Frank|  4800|\n",
      "|  Grace|  5200|\n",
      "|   Hank|  6500|\n",
      "+-------+------+\n",
      "\n"
     ]
    }
   ],
   "source": [
    "df.select(\"Name\", \"Salary\").show()"
   ]
  },
  {
   "cell_type": "code",
   "execution_count": 22,
   "metadata": {},
   "outputs": [
    {
     "name": "stdout",
     "output_type": "stream",
     "text": [
      "+---+-------+----------+------+-----+\n",
      "| id|   name|department|salary|bonus|\n",
      "+---+-------+----------+------+-----+\n",
      "|  1|  Alice|     Sales|  5000|  200|\n",
      "|  2|    Bob|   Finance|  6000|  300|\n",
      "|  3|Charlie|     Sales|  5500|  250|\n",
      "|  4|  David|   Finance|  7000|  400|\n",
      "|  5|    Eva|        HR|  4500|  150|\n",
      "|  6|  Frank|        HR|  4800| NULL|\n",
      "|  7|  Grace|     Sales|  5200|  220|\n",
      "|  8|   Hank|   Finance|  6500|  350|\n",
      "+---+-------+----------+------+-----+\n",
      "\n"
     ]
    }
   ],
   "source": [
    "df.filter(df[\"Salary\"] > 4000).show()"
   ]
  },
  {
   "cell_type": "code",
   "execution_count": 23,
   "metadata": {},
   "outputs": [
    {
     "name": "stdout",
     "output_type": "stream",
     "text": [
      "+----------+-----+\n",
      "|Department|count|\n",
      "+----------+-----+\n",
      "|     Sales|    3|\n",
      "|        HR|    2|\n",
      "|   Finance|    3|\n",
      "+----------+-----+\n",
      "\n"
     ]
    }
   ],
   "source": [
    "df.groupBy(\"Department\").count().show()"
   ]
  },
  {
   "cell_type": "code",
   "execution_count": 24,
   "metadata": {},
   "outputs": [
    {
     "name": "stdout",
     "output_type": "stream",
     "text": [
      "+----------+-----------------+\n",
      "|Department|      avg(Salary)|\n",
      "+----------+-----------------+\n",
      "|     Sales|5233.333333333333|\n",
      "|        HR|           4650.0|\n",
      "|   Finance|           6500.0|\n",
      "+----------+-----------------+\n",
      "\n"
     ]
    }
   ],
   "source": [
    "df.groupBy(\"Department\").agg({\"Salary\": \"avg\"}).show()"
   ]
  },
  {
   "cell_type": "code",
   "execution_count": 25,
   "metadata": {},
   "outputs": [
    {
     "name": "stdout",
     "output_type": "stream",
     "text": [
      "+---+-------+----------+------+-----+-------+\n",
      "| id|   name|department|salary|bonus|Country|\n",
      "+---+-------+----------+------+-----+-------+\n",
      "|  1|  Alice|     Sales|  5000|  200|    USA|\n",
      "|  2|    Bob|   Finance|  6000|  300|    USA|\n",
      "|  3|Charlie|     Sales|  5500|  250|    USA|\n",
      "|  4|  David|   Finance|  7000|  400|    USA|\n",
      "|  5|    Eva|        HR|  4500|  150|    USA|\n",
      "|  6|  Frank|        HR|  4800| NULL|    USA|\n",
      "|  7|  Grace|     Sales|  5200|  220|    USA|\n",
      "|  8|   Hank|   Finance|  6500|  350|    USA|\n",
      "+---+-------+----------+------+-----+-------+\n",
      "\n"
     ]
    }
   ],
   "source": [
    "from pyspark.sql.functions import lit\n",
    "df.withColumn(\"Country\", lit(\"USA\")).show()"
   ]
  },
  {
   "cell_type": "code",
   "execution_count": 30,
   "metadata": {},
   "outputs": [
    {
     "name": "stdout",
     "output_type": "stream",
     "text": [
      "+---+-------+----------+------+-----+\n",
      "| id|   name|department|salary|bonus|\n",
      "+---+-------+----------+------+-----+\n",
      "|  1|  Alice|     Sales|  5000|  200|\n",
      "|  2|    Bob|   Finance|  6000|  300|\n",
      "|  3|Charlie|     Sales|  5500|  250|\n",
      "|  4|  David|   Finance|  7000|  400|\n",
      "|  5|    Eva|        HR|  4500|  150|\n",
      "|  6|  Frank|        HR|  4800| NULL|\n",
      "|  7|  Grace|     Sales|  5200|  220|\n",
      "|  8|   Hank|   Finance|  6500|  350|\n",
      "+---+-------+----------+------+-----+\n",
      "\n"
     ]
    }
   ],
   "source": [
    "df.show()"
   ]
  },
  {
   "cell_type": "code",
   "execution_count": 31,
   "metadata": {},
   "outputs": [],
   "source": [
    "new_df = spark.createDataFrame([(9, \"Sam\", \"Finance\", 4000, \"250\")], [\"Id\",\"Name\" , \"Department\", \"Salary\", \"bonus\"])\n"
   ]
  },
  {
   "cell_type": "code",
   "execution_count": 32,
   "metadata": {},
   "outputs": [
    {
     "name": "stdout",
     "output_type": "stream",
     "text": [
      "+---+-------+----------+------+-----+\n",
      "| id|   name|department|salary|bonus|\n",
      "+---+-------+----------+------+-----+\n",
      "|  1|  Alice|     Sales|  5000|  200|\n",
      "|  2|    Bob|   Finance|  6000|  300|\n",
      "|  3|Charlie|     Sales|  5500|  250|\n",
      "|  4|  David|   Finance|  7000|  400|\n",
      "|  5|    Eva|        HR|  4500|  150|\n",
      "|  6|  Frank|        HR|  4800| NULL|\n",
      "|  7|  Grace|     Sales|  5200|  220|\n",
      "|  8|   Hank|   Finance|  6500|  350|\n",
      "|  9|    Sam|   Finance|  4000|  250|\n",
      "+---+-------+----------+------+-----+\n",
      "\n"
     ]
    }
   ],
   "source": [
    "df = df.union(new_df)\n",
    "df.show()"
   ]
  },
  {
   "cell_type": "code",
   "execution_count": 33,
   "metadata": {},
   "outputs": [],
   "source": [
    "new_df1 = spark.createDataFrame([(9, \"Sam\", \"Finance\", 4000, \"250\")], [\"Id\",\"Name\" , \"Department\", \"Salary\", \"bonus\"])"
   ]
  },
  {
   "cell_type": "code",
   "execution_count": 34,
   "metadata": {},
   "outputs": [
    {
     "name": "stdout",
     "output_type": "stream",
     "text": [
      "+---+-------+----------+------+-----+\n",
      "| id|   name|department|salary|bonus|\n",
      "+---+-------+----------+------+-----+\n",
      "|  1|  Alice|     Sales|  5000|  200|\n",
      "|  2|    Bob|   Finance|  6000|  300|\n",
      "|  3|Charlie|     Sales|  5500|  250|\n",
      "|  4|  David|   Finance|  7000|  400|\n",
      "|  5|    Eva|        HR|  4500|  150|\n",
      "|  6|  Frank|        HR|  4800| NULL|\n",
      "|  7|  Grace|     Sales|  5200|  220|\n",
      "|  8|   Hank|   Finance|  6500|  350|\n",
      "|  9|    Sam|   Finance|  4000|  250|\n",
      "|  9|    Sam|   Finance|  4000|  250|\n",
      "+---+-------+----------+------+-----+\n",
      "\n"
     ]
    }
   ],
   "source": [
    "df = df.union(new_df1)\n",
    "df.show()"
   ]
  },
  {
   "cell_type": "code",
   "execution_count": 35,
   "metadata": {},
   "outputs": [
    {
     "name": "stdout",
     "output_type": "stream",
     "text": [
      "+---+-------+----------+------+-----+\n",
      "| id|   name|department|salary|bonus|\n",
      "+---+-------+----------+------+-----+\n",
      "|  8|   Hank|   Finance|  6500|  350|\n",
      "|  5|    Eva|        HR|  4500|  150|\n",
      "|  3|Charlie|     Sales|  5500|  250|\n",
      "|  4|  David|   Finance|  7000|  400|\n",
      "|  2|    Bob|   Finance|  6000|  300|\n",
      "|  6|  Frank|        HR|  4800| NULL|\n",
      "|  1|  Alice|     Sales|  5000|  200|\n",
      "|  7|  Grace|     Sales|  5200|  220|\n",
      "|  9|    Sam|   Finance|  4000|  250|\n",
      "+---+-------+----------+------+-----+\n",
      "\n"
     ]
    }
   ],
   "source": [
    "df.dropDuplicates().show()"
   ]
  },
  {
   "cell_type": "code",
   "execution_count": 36,
   "metadata": {},
   "outputs": [
    {
     "name": "stdout",
     "output_type": "stream",
     "text": [
      "+---+-------------+----------+------+-----+\n",
      "| id|Employee Name|department|salary|bonus|\n",
      "+---+-------------+----------+------+-----+\n",
      "|  1|        Alice|     Sales|  5000|  200|\n",
      "|  2|          Bob|   Finance|  6000|  300|\n",
      "|  3|      Charlie|     Sales|  5500|  250|\n",
      "|  4|        David|   Finance|  7000|  400|\n",
      "|  5|          Eva|        HR|  4500|  150|\n",
      "|  6|        Frank|        HR|  4800| NULL|\n",
      "|  7|        Grace|     Sales|  5200|  220|\n",
      "|  8|         Hank|   Finance|  6500|  350|\n",
      "|  9|          Sam|   Finance|  4000|  250|\n",
      "|  9|          Sam|   Finance|  4000|  250|\n",
      "+---+-------------+----------+------+-----+\n",
      "\n"
     ]
    }
   ],
   "source": [
    "df = df.withColumnRenamed(\"Name\", \"Employee Name\")\n",
    "df.show()"
   ]
  },
  {
   "cell_type": "code",
   "execution_count": 37,
   "metadata": {},
   "outputs": [
    {
     "name": "stdout",
     "output_type": "stream",
     "text": [
      "+----------+-------------+\n",
      "|Department|     Location|\n",
      "+----------+-------------+\n",
      "|   Finance|  Los Angeles|\n",
      "|        HR|San Francisco|\n",
      "|     Sales|     San Jose|\n",
      "+----------+-------------+\n",
      "\n"
     ]
    }
   ],
   "source": [
    "datadept = [(\"Finance\", \"Los Angeles\"), (\"HR\", \"San Francisco\"), (\"Sales\", \"San Jose\")]\n",
    "columns = [\"Department\", \"Location\"]\n",
    "dept_df = spark.createDataFrame(datadept, columns)\n",
    "dept_df.show()"
   ]
  },
  {
   "cell_type": "code",
   "execution_count": 39,
   "metadata": {},
   "outputs": [
    {
     "name": "stdout",
     "output_type": "stream",
     "text": [
      "+---+-------------+----------+------+-----+----------+-------------+\n",
      "| id|Employee Name|department|salary|bonus|Department|     Location|\n",
      "+---+-------------+----------+------+-----+----------+-------------+\n",
      "|  2|          Bob|   Finance|  6000|  300|   Finance|  Los Angeles|\n",
      "|  4|        David|   Finance|  7000|  400|   Finance|  Los Angeles|\n",
      "|  8|         Hank|   Finance|  6500|  350|   Finance|  Los Angeles|\n",
      "|  9|          Sam|   Finance|  4000|  250|   Finance|  Los Angeles|\n",
      "|  9|          Sam|   Finance|  4000|  250|   Finance|  Los Angeles|\n",
      "|  5|          Eva|        HR|  4500|  150|        HR|San Francisco|\n",
      "|  6|        Frank|        HR|  4800| NULL|        HR|San Francisco|\n",
      "|  1|        Alice|     Sales|  5000|  200|     Sales|     San Jose|\n",
      "|  3|      Charlie|     Sales|  5500|  250|     Sales|     San Jose|\n",
      "|  7|        Grace|     Sales|  5200|  220|     Sales|     San Jose|\n",
      "+---+-------------+----------+------+-----+----------+-------------+\n",
      "\n"
     ]
    }
   ],
   "source": [
    "df_join = df.join(dept_df, df.department == dept_df.Department, \"inner\")\n",
    "df_join.show()"
   ]
  }
 ],
 "metadata": {
  "kernelspec": {
   "display_name": "pyspark_env",
   "language": "python",
   "name": "python3"
  },
  "language_info": {
   "codemirror_mode": {
    "name": "ipython",
    "version": 3
   },
   "file_extension": ".py",
   "mimetype": "text/x-python",
   "name": "python",
   "nbconvert_exporter": "python",
   "pygments_lexer": "ipython3",
   "version": "3.8.20"
  }
 },
 "nbformat": 4,
 "nbformat_minor": 2
}
