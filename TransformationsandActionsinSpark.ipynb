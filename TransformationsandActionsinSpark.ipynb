{
 "cells": [
  {
   "cell_type": "code",
   "execution_count": null,
   "metadata": {},
   "outputs": [],
   "source": [
    "from pyspark import SparkContext\n",
    "\n",
    "# Initialize SparkContext\n",
    "sc = SparkContext(\"local\", \"Lazy Execution Example\")"
   ]
  },
  {
   "cell_type": "code",
   "execution_count": 6,
   "metadata": {},
   "outputs": [
    {
     "data": {
      "text/plain": [
       "PythonRDD[4] at RDD at PythonRDD.scala:53"
      ]
     },
     "execution_count": 6,
     "metadata": {},
     "output_type": "execute_result"
    }
   ],
   "source": [
    "\n",
    "# Create an RDD\n",
    "rdd = sc.parallelize([1, 2, 3, 4, 5])\n",
    "\n",
    "# Apply transformations (lazy evaluation)\n",
    "rdd_mapped = rdd.map(lambda x: x * 2)\n",
    "rdd_filtered = rdd_mapped.filter(lambda x: x > 5)\n",
    "\n",
    "# No computation happens yet!\n",
    "rdd_filtered"
   ]
  },
  {
   "cell_type": "code",
   "execution_count": 7,
   "metadata": {},
   "outputs": [
    {
     "name": "stdout",
     "output_type": "stream",
     "text": [
      "[6, 8, 10]\n"
     ]
    }
   ],
   "source": [
    "# Perform an action (eager execution)\n",
    "result = rdd_filtered.collect()\n",
    "\n",
    "# Show the result\n",
    "print(result)"
   ]
  },
  {
   "cell_type": "code",
   "execution_count": 8,
   "metadata": {},
   "outputs": [
    {
     "name": "stdout",
     "output_type": "stream",
     "text": [
      "[2, 4, 6, 8, 10]\n"
     ]
    }
   ],
   "source": [
    "# Multiply each element by 2\n",
    "rdd_mapped = rdd.map(lambda x: x * 2)\n",
    "\n",
    "# Show the result\n",
    "print(rdd_mapped.collect())"
   ]
  },
  {
   "cell_type": "code",
   "execution_count": 9,
   "metadata": {},
   "outputs": [
    {
     "name": "stdout",
     "output_type": "stream",
     "text": [
      "[4, 5]\n"
     ]
    }
   ],
   "source": [
    "# Filter elements greater than 3\n",
    "rdd_filtered = rdd.filter(lambda x: x > 3)\n",
    "\n",
    "# Show the result\n",
    "print(rdd_filtered.collect())"
   ]
  },
  {
   "cell_type": "code",
   "execution_count": 10,
   "metadata": {},
   "outputs": [
    {
     "name": "stdout",
     "output_type": "stream",
     "text": [
      "['Hello', 'world', 'Apache', 'Spark']\n"
     ]
    }
   ],
   "source": [
    "# Split a sentence into words\n",
    "data = [\"Hello world\", \"Apache Spark\"]\n",
    "rdd = sc.parallelize(data)\n",
    "rdd_flat_mapped = rdd.flatMap(lambda x: x.split(\" \"))\n",
    "\n",
    "# Show the result\n",
    "print(rdd_flat_mapped.collect())"
   ]
  },
  {
   "cell_type": "code",
   "execution_count": 11,
   "metadata": {},
   "outputs": [
    {
     "name": "stdout",
     "output_type": "stream",
     "text": [
      "['Hello world', 'Apache Spark']\n"
     ]
    }
   ],
   "source": [
    "# Collect all elements\n",
    "result = rdd.collect()\n",
    "\n",
    "# Show the result\n",
    "print(result)"
   ]
  },
  {
   "cell_type": "code",
   "execution_count": 12,
   "metadata": {},
   "outputs": [
    {
     "name": "stdout",
     "output_type": "stream",
     "text": [
      "2\n"
     ]
    }
   ],
   "source": [
    "# Count the number of elements\n",
    "count = rdd.count()\n",
    "\n",
    "# Show the result\n",
    "print(count)"
   ]
  },
  {
   "cell_type": "code",
   "execution_count": 13,
   "metadata": {},
   "outputs": [
    {
     "name": "stdout",
     "output_type": "stream",
     "text": [
      "Hello worldApache Spark\n"
     ]
    }
   ],
   "source": [
    "# Sum all elements\n",
    "total = rdd.reduce(lambda x, y: x + y)\n",
    "\n",
    "# Show the result\n",
    "print(total)"
   ]
  }
 ],
 "metadata": {
  "kernelspec": {
   "display_name": "pyspark_env",
   "language": "python",
   "name": "python3"
  },
  "language_info": {
   "codemirror_mode": {
    "name": "ipython",
    "version": 3
   },
   "file_extension": ".py",
   "mimetype": "text/x-python",
   "name": "python",
   "nbconvert_exporter": "python",
   "pygments_lexer": "ipython3",
   "version": "3.8.20"
  }
 },
 "nbformat": 4,
 "nbformat_minor": 2
}
